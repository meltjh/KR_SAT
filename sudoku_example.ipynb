{
 "cells": [
  {
   "cell_type": "markdown",
   "metadata": {},
   "source": [
    "# Sudoku Project\n",
    "by Finn Potason (s2.wang@vu.nl)\n",
    "\n",
    "This is a quick tutorial for MSc Logic students and those who struggle to kick off the project.\n",
    "\n",
    "First of all you need the Pycosat solver [1].\n",
    "In your terminal [2], type: pip install pycosat\n",
    "\n",
    "[1] See more details at: https://pypi.python.org/pypi/pycosat\n",
    "[2] Press ctrl + alt + t.\n",
    "\n",
    "Next we test if the solver is working: "
   ]
  },
  {
   "cell_type": "code",
   "execution_count": 1,
   "metadata": {
    "collapsed": true
   },
   "outputs": [],
   "source": [
    "import pycosat\n",
    "# cnf = [[1, 5,4], [-1,5,3,4], [-3, -4]]\n",
    "# pycosat.solve(cnf)"
   ]
  },
  {
   "cell_type": "markdown",
   "metadata": {},
   "source": [
    "Next, you can print all the possible assignments to this CNF. "
   ]
  },
  {
   "cell_type": "code",
   "execution_count": 2,
   "metadata": {
    "collapsed": true
   },
   "outputs": [],
   "source": [
    "# print ('There are in total ', len(list(pycosat.itersolve(cnf))), ' possible assignments:')\n",
    "# for sol in pycosat.itersolve(cnf):\n",
    "#     print(sol)"
   ]
  },
  {
   "cell_type": "markdown",
   "metadata": {},
   "source": [
    "## Encode Sudoku\n",
    "Take a random sudoku and think what the propositional variables are.\n",
    "PS: You will need the library numpy. If you don't have it, install it (and reboot if needed)."
   ]
  },
  {
   "cell_type": "code",
   "execution_count": 3,
   "metadata": {
    "collapsed": true
   },
   "outputs": [],
   "source": [
    "import numpy as np\n",
    "# s_test = np.array([[8,0,6,5,0,0,0,0,0],\n",
    "#                     [0,0,4,0,0,0,0,0,8],\n",
    "#                     [0,0,0,0,0,0,6,0,0],\n",
    "#                     [0,0,0,0,0,0,0,0,0],\n",
    "#                     [3,7,0,4,5,0,0,0,0],\n",
    "#                     [5,0,1,0,9,8,0,0,7],\n",
    "#                     [0,0,0,0,0,7,0,2,0],\n",
    "#                     [2,5,7,1,6,0,0,0,9],\n",
    "#                     [0,8,0,0,3,0,0,4,0]])\n",
    "# print(s_test)"
   ]
  },
  {
   "cell_type": "code",
   "execution_count": 4,
   "metadata": {
    "collapsed": true
   },
   "outputs": [],
   "source": [
    "# names = np.zeros([9,9,9], dtype = np.int)\n",
    "\n",
    "# index = 1\n",
    "# for i in range(9):\n",
    "#     for j in range(9):\n",
    "#         print('introduce a 9 propositional variables to each cell:')\n",
    "#         for k in range(9):\n",
    "#             names[i][j][k] = i * 81 + j * 9 + k +1\n",
    "#             print('if the cell at row: ', i+1, ' column: ', j+1, 'is ', k+1, 'then it is named ', names[i][j][k])"
   ]
  },
  {
   "cell_type": "code",
   "execution_count": 5,
   "metadata": {
    "collapsed": true
   },
   "outputs": [],
   "source": [
    "# print ('When the cell at row 3 column 4 is 6')\n",
    "# print('the variable' , names[2][3][5], ' is true')\n",
    "# print('please be careful about the indexing!!!')"
   ]
  },
  {
   "cell_type": "code",
   "execution_count": 6,
   "metadata": {
    "collapsed": true
   },
   "outputs": [],
   "source": [
    "# encode_cnf = []\n",
    "# print('start populate this cnf:', encode_cnf)"
   ]
  },
  {
   "cell_type": "markdown",
   "metadata": {},
   "source": [
    "Next, we define two functions to obtain the function exactly one. "
   ]
  },
  {
   "cell_type": "code",
   "execution_count": 7,
   "metadata": {
    "collapsed": true
   },
   "outputs": [],
   "source": [
    "def encode_at_most_one(names):\n",
    "    encode = []\n",
    "    for i in range(len(names)):\n",
    "        for j in range(i+1, len(names)):\n",
    "            arr = [-1*names[i], -1*names[j]]\n",
    "            encode.insert(0, arr)\n",
    "    return encode\n",
    "      \n",
    "# test_names = [1,2,3]\n",
    "# enc = encode_at_most_one(test_names)\n",
    "# print('at most one is encoded as: ',enc)\n",
    "# encode_cnf.extend(enc)\n",
    "\n",
    "def encode_at_least_one(names):\n",
    "    return [names]\n",
    "# enc = encode_at_least_one(test_names)\n",
    "# print('at least one is encoded as:', enc)\n",
    "# encode_cnf.extend(enc)\n",
    "# print('put them together, you get: ', encode_cnf)\n",
    "# print ('as you can see, there is exactly one true:')\n",
    "# pycosat.solve(encode_cnf)\n",
    "# TODO: introduce a function called encode_exactly_one(names) \n",
    "#       and update the code above"
   ]
  },
  {
   "cell_type": "markdown",
   "metadata": {},
   "source": [
    "## 1) For each cell, exactly one variable is true."
   ]
  },
  {
   "cell_type": "code",
   "execution_count": 8,
   "metadata": {
    "collapsed": true
   },
   "outputs": [],
   "source": [
    "def get_cell_names(n):\n",
    "    names = np.zeros([n,n,n], dtype = np.int)\n",
    "\n",
    "    index = 1\n",
    "    for i in range(n):\n",
    "        for j in range(n):\n",
    "            for k in range(n):\n",
    "                names[i][j][k] = i * n**2 + j * n + k +1\n",
    "    return names"
   ]
  },
  {
   "cell_type": "code",
   "execution_count": 9,
   "metadata": {
    "collapsed": true
   },
   "outputs": [],
   "source": [
    "# n = 4\n",
    "# names = get_cell_names(n)\n",
    "# print(names)"
   ]
  },
  {
   "cell_type": "code",
   "execution_count": 10,
   "metadata": {
    "collapsed": true
   },
   "outputs": [],
   "source": [
    "def encode_exactly_one(names):\n",
    "    enc = encode_at_most_one(names)\n",
    "    enc.extend(encode_at_least_one(names))\n",
    "    return enc\n",
    "\n",
    "def encode_exactly_ones(names):\n",
    "    n=len(names)\n",
    "    possible_enc = []\n",
    "    for i in range(n):\n",
    "        for j in range(n):\n",
    "            same_values = []\n",
    "            for k in range(n):\n",
    "                same_values.append(int(names[i][j][k]))\n",
    "            possible_enc.extend(encode_exactly_one(same_values))\n",
    "    return possible_enc\n",
    "    "
   ]
  },
  {
   "cell_type": "markdown",
   "metadata": {},
   "source": [
    "## 2) "
   ]
  },
  {
   "cell_type": "code",
   "execution_count": 11,
   "metadata": {
    "collapsed": true
   },
   "outputs": [],
   "source": [
    "def encode_row(names):\n",
    "    n=len(names)\n",
    "    possible_enc = []\n",
    "    for i in range(n):\n",
    "        for k in range(n):\n",
    "            same_values = []\n",
    "            for j in range(n):\n",
    "                same_values.append(int(names[i][j][k]))\n",
    "            possible_enc.extend(encode_exactly_one(same_values))\n",
    "    return possible_enc"
   ]
  },
  {
   "cell_type": "markdown",
   "metadata": {},
   "source": [
    "## 3) For each column, for each number, exactly one variable is true."
   ]
  },
  {
   "cell_type": "code",
   "execution_count": 12,
   "metadata": {
    "collapsed": true
   },
   "outputs": [],
   "source": [
    "def encode_column(names):\n",
    "    n=len(names)\n",
    "    possible_enc = []\n",
    "    for k in range(n):\n",
    "        for j in range(n):\n",
    "            same_values = []\n",
    "            for i in range(n):\n",
    "                same_values.append(int(names[i][j][k]))\n",
    "            possible_enc.extend(encode_exactly_one(same_values))\n",
    "    return possible_enc"
   ]
  },
  {
   "cell_type": "markdown",
   "metadata": {},
   "source": [
    "## 4) For each block, for each number, exactly one variable is true."
   ]
  },
  {
   "cell_type": "code",
   "execution_count": 13,
   "metadata": {
    "collapsed": true
   },
   "outputs": [],
   "source": [
    "import math\n",
    "\n",
    "def encode_block(names):\n",
    "    n=len(names)\n",
    "    block_n = int(math.sqrt(n))\n",
    "\n",
    "    possible_enc = []\n",
    "    for i in range(block_n):\n",
    "        for k in range(n):\n",
    "\n",
    "            for nj in range(block_n):\n",
    "                same_values = []\n",
    "                for j in range(block_n):\n",
    "\n",
    "                    for ni in range(block_n):\n",
    "                        same_values.append(int(names[i*block_n+ni][j+block_n*nj][k]))\n",
    "\n",
    "                possible_enc.extend(encode_exactly_one(same_values))\n",
    "    return possible_enc"
   ]
  },
  {
   "cell_type": "markdown",
   "metadata": {},
   "source": [
    "## 5) Now put them together and see if your solver returns an assignment"
   ]
  },
  {
   "cell_type": "code",
   "execution_count": 14,
   "metadata": {
    "collapsed": true
   },
   "outputs": [],
   "source": [
    "import itertools\n",
    "def remove_duplicates(cnv):\n",
    "    cnv.sort()\n",
    "    return list(rule for rule,_ in itertools.groupby(cnv))"
   ]
  },
  {
   "cell_type": "code",
   "execution_count": 15,
   "metadata": {
    "collapsed": true
   },
   "outputs": [],
   "source": [
    "def encode_sudoku(names, c=[]):\n",
    "    c.extend(encode_exactly_ones(names))\n",
    "    c.extend(encode_row(names))\n",
    "    c.extend(encode_column(names))\n",
    "    c.extend(encode_block(names))\n",
    "    \n",
    "    print('Amount of rules', len(c))\n",
    "    c = remove_duplicates(c)\n",
    "    print('Amount of unique rules',len(c))\n",
    "\n",
    "    return c"
   ]
  },
  {
   "cell_type": "markdown",
   "metadata": {},
   "source": [
    "## 6) What does this assignment tell you? Can you decode it and print the solution (mind the indices)?"
   ]
  },
  {
   "cell_type": "code",
   "execution_count": 16,
   "metadata": {
    "collapsed": true
   },
   "outputs": [],
   "source": [
    "def name_to_index(name):\n",
    "    name-=1\n",
    "    \n",
    "    n=len(names)\n",
    "\n",
    "    index_i = name // n**2\n",
    "    name -= (index_i*n**2)\n",
    "    index_j = name // n\n",
    "    name -= (index_j*n)\n",
    "    index_k = name\n",
    "    \n",
    "    return index_i, index_j, index_k"
   ]
  },
  {
   "cell_type": "code",
   "execution_count": 17,
   "metadata": {
    "collapsed": true
   },
   "outputs": [],
   "source": [
    "def decode_sudoku(solution):\n",
    "    if solution=='UNSAT':\n",
    "        raise NotImplementedError(\"UNSAT is not yet implemented\")\n",
    "        \n",
    "    # sqrt with 3\n",
    "    n=round(len(solution)**(1./3.))\n",
    "\n",
    "    sud = np.zeros([n,n], dtype = np.int)\n",
    "\n",
    "    for sol in solution:\n",
    "        if sol>0:\n",
    "            i,j,k = name_to_index(sol)\n",
    "            sud[i][j]=k+1\n",
    "    \n",
    "    return sud"
   ]
  },
  {
   "cell_type": "code",
   "execution_count": 18,
   "metadata": {
    "collapsed": true
   },
   "outputs": [],
   "source": [
    "# n=4\n",
    "# names = get_cell_names(n)\n",
    "\n",
    "# input_enc=[[1],[6],[11]] # 1 at first position and 2 at second\n",
    "# cnv = encode_sudoku(names, input_enc)\n",
    "\n",
    "# # solution = pycosat.solve(cnv)\n",
    "# # print(decode_sudoku(solution))\n",
    "\n",
    "\n",
    "# solutions = list(pycosat.itersolve(cnv))\n",
    "\n",
    "# print ('There are in total ', len(solutions), ' possible assignments:')\n",
    "# for sol in solutions[:3]:\n",
    "#     print(decode_sudoku(sol))\n"
   ]
  },
  {
   "cell_type": "code",
   "execution_count": 19,
   "metadata": {},
   "outputs": [
    {
     "name": "stdout",
     "output_type": "stream",
     "text": [
      "Amount of rules 12034\n",
      "Amount of unique rules 10576\n"
     ]
    }
   ],
   "source": [
    "inpt = [[0, 3, 6, 5, 8, 0, 4, 9, 0], [2, 5, 0, 0, 3, 9, 1, 8, 0], [0, 8, 9, 0, 1, 0, 2, 0, 0], [4, 0, 3, 0, 0, 0, 0, 2, 9], [5, 6, 2, 9, 0, 0, 0, 0, 0], [0, 9, 0, 0, 2, 7, 3, 0, 4], [6, 1, 8, 2, 9, 5, 7, 4, 3], [9, 0, 0, 3, 0, 0, 0, 0, 0], [3, 0, 5, 1, 7, 4, 9, 0, 0]]\n",
    "n=len(inpt)\n",
    "\n",
    "final_list = []\n",
    "for l in inpt:\n",
    "    final_list.extend(l)\n",
    "\n",
    "input_enc=[]\n",
    "for i in range(len(final_list)):\n",
    "    el=final_list[i]\n",
    "    if(el!=0):\n",
    "        name = n*i+el\n",
    "        input_enc.append([name])\n",
    "\n",
    "names = get_cell_names(n)\n",
    "cnv = encode_sudoku(names, input_enc)"
   ]
  },
  {
   "cell_type": "code",
   "execution_count": 20,
   "metadata": {},
   "outputs": [
    {
     "name": "stdout",
     "output_type": "stream",
     "text": [
      "[[1 3 6 5 8 2 4 9 7]\n",
      " [2 5 4 7 3 9 1 8 6]\n",
      " [7 8 9 4 1 6 2 3 5]\n",
      " [4 7 3 8 5 1 6 2 9]\n",
      " [5 6 2 9 4 3 8 7 1]\n",
      " [8 9 1 6 2 7 3 5 4]\n",
      " [6 1 8 2 9 5 7 4 3]\n",
      " [9 4 7 3 6 8 5 1 2]\n",
      " [3 2 5 1 7 4 9 6 8]]\n"
     ]
    }
   ],
   "source": [
    "solution = pycosat.solve(cnv)\n",
    "print(decode_sudoku(solution))"
   ]
  },
  {
   "cell_type": "code",
   "execution_count": 21,
   "metadata": {},
   "outputs": [
    {
     "name": "stdout",
     "output_type": "stream",
     "text": [
      "There are in total  1  possible assignments:\n",
      "[[1 3 6 5 8 2 4 9 7]\n",
      " [2 5 4 7 3 9 1 8 6]\n",
      " [7 8 9 4 1 6 2 3 5]\n",
      " [4 7 3 8 5 1 6 2 9]\n",
      " [5 6 2 9 4 3 8 7 1]\n",
      " [8 9 1 6 2 7 3 5 4]\n",
      " [6 1 8 2 9 5 7 4 3]\n",
      " [9 4 7 3 6 8 5 1 2]\n",
      " [3 2 5 1 7 4 9 6 8]]\n"
     ]
    }
   ],
   "source": [
    "solutions = list(pycosat.itersolve(cnv))\n",
    "\n",
    "print ('There are in total ', len(solutions), ' possible assignments:')\n",
    "for sol in solutions[:3]:\n",
    "    print(decode_sudoku(sol))"
   ]
  }
 ],
 "metadata": {
  "kernelspec": {
   "display_name": "Python 3",
   "language": "python",
   "name": "python3"
  },
  "language_info": {
   "codemirror_mode": {
    "name": "ipython",
    "version": 3
   },
   "file_extension": ".py",
   "mimetype": "text/x-python",
   "name": "python",
   "nbconvert_exporter": "python",
   "pygments_lexer": "ipython3",
   "version": "3.6.2"
  }
 },
 "nbformat": 4,
 "nbformat_minor": 2
}

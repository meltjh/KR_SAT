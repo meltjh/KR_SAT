{
 "cells": [
  {
   "cell_type": "code",
   "execution_count": 8,
   "metadata": {},
   "outputs": [],
   "source": [
    "from sudoku_generator import generate_puzzle\n",
    "import math\n",
    "import numpy as np"
   ]
  },
  {
   "cell_type": "code",
   "execution_count": 2,
   "metadata": {},
   "outputs": [
    {
     "name": "stdout",
     "output_type": "stream",
     "text": [
      "Runtime is 2.08226203918 seconds\n",
      "Guesses: 0\n",
      "Level: Easy\n"
     ]
    }
   ],
   "source": [
    "level = \"Easy\"\n",
    "puzzle_long_list = generate_puzzle(level)"
   ]
  },
  {
   "cell_type": "code",
   "execution_count": 6,
   "metadata": {
    "collapsed": true
   },
   "outputs": [],
   "source": [
    "def get_cell_names(n):\n",
    "    names = np.zeros([n,n,n], dtype = np.int)\n",
    "\n",
    "    index = 1\n",
    "    for i in range(n):\n",
    "        for j in range(n):\n",
    "            for k in range(n):\n",
    "                names[i][j][k] = i * n**2 + j * n + k +1\n",
    "    return names"
   ]
  },
  {
   "cell_type": "code",
   "execution_count": 19,
   "metadata": {
    "collapsed": true
   },
   "outputs": [],
   "source": [
    "def encode_at_most_one(names):\n",
    "    encode = []\n",
    "    for i in range(len(names)):\n",
    "        for j in range(i+1, len(names)):\n",
    "            arr = [-1*names[i], -1*names[j]]\n",
    "            encode.insert(0, arr)\n",
    "    return encode\n",
    "\n",
    "def encode_exactly_one(names):\n",
    "    enc = encode_at_most_one(names)\n",
    "    enc.extend(encode_at_least_one(names))\n",
    "    return enc\n",
    "\n",
    "def encode_at_least_one(names):\n",
    "    return [names]\n",
    "\n",
    "def encode_exactly_ones(names):\n",
    "    n=len(names)\n",
    "    possible_enc = []\n",
    "    for i in range(n):\n",
    "        for j in range(n):\n",
    "            same_values = []\n",
    "            for k in range(n):\n",
    "                same_values.append(int(names[i][j][k]))\n",
    "            possible_enc.extend(encode_exactly_one(same_values))\n",
    "    return possible_enc\n",
    "\n",
    "def encode_row(names):\n",
    "    n=len(names)\n",
    "    possible_enc = []\n",
    "    for i in range(n):\n",
    "        for k in range(n):\n",
    "            same_values = []\n",
    "            for j in range(n):\n",
    "                same_values.append(int(names[i][j][k]))\n",
    "            possible_enc.extend(encode_exactly_one(same_values))\n",
    "    return possible_enc\n",
    "\n",
    "def encode_column(names):\n",
    "    n=len(names)\n",
    "    possible_enc = []\n",
    "    for k in range(n):\n",
    "        for j in range(n):\n",
    "            same_values = []\n",
    "            for i in range(n):\n",
    "                same_values.append(int(names[i][j][k]))\n",
    "            possible_enc.extend(encode_exactly_one(same_values))\n",
    "    return possible_enc\n",
    "\n",
    "def encode_block(names):\n",
    "    n=len(names)\n",
    "    block_n = int(math.sqrt(n))\n",
    "\n",
    "    possible_enc = []\n",
    "    for i in range(block_n):\n",
    "        for k in range(n):\n",
    "\n",
    "            for nj in range(block_n):\n",
    "                same_values = []\n",
    "                for j in range(block_n):\n",
    "\n",
    "                    for ni in range(block_n):\n",
    "                        same_values.append(int(names[i*block_n+ni][j+block_n*nj][k]))\n",
    "\n",
    "                possible_enc.extend(encode_exactly_one(same_values))\n",
    "    return possible_enc\n",
    "\n",
    "import itertools\n",
    "def remove_duplicates(cnf):\n",
    "    cnf.sort()\n",
    "    return list(rule for rule,_ in itertools.groupby(cnf))\n",
    "\n",
    "def encode_sudoku(names, c=[]):\n",
    "    c.extend(encode_exactly_ones(names))\n",
    "    c.extend(encode_row(names))\n",
    "    c.extend(encode_column(names))\n",
    "    c.extend(encode_block(names))\n",
    "    \n",
    "    print('Amount of rules', len(c))\n",
    "    c = remove_duplicates(c)\n",
    "    print('Amount of unique rules',len(c))\n",
    "\n",
    "    return c"
   ]
  },
  {
   "cell_type": "code",
   "execution_count": 18,
   "metadata": {},
   "outputs": [
    {
     "name": "stdout",
     "output_type": "stream",
     "text": [
      "[[44], [56], [72], [79], [88], [92], [107], [139], [184], [194], [224], [237], [259], [267], [283], [290], [302], [351], [358], [366], [370], [391], [398], [418], [460], [490], [504], [506], [534], [547], [566], [582], [604], [644], [653], [667], [691], [702]]\n",
      "('Amount of rules', 12026)\n",
      "('Amount of unique rules', 10568)\n"
     ]
    }
   ],
   "source": [
    "length = len(puzzle_long_list)\n",
    "n = int(math.sqrt(length))\n",
    "input_enc = []\n",
    "for i in range(length):\n",
    "    el = puzzle_long_list[i]\n",
    "    if(el != 0):\n",
    "        name = n * i + el\n",
    "        input_enc.append([name])\n",
    "print(input_enc)\n",
    "\n",
    "names = get_cell_names(n)\n",
    "cnf = encode_sudoku(names, input_enc)\n",
    "# print(cnf)"
   ]
  },
  {
   "cell_type": "code",
   "execution_count": 16,
   "metadata": {},
   "outputs": [
    {
     "name": "stdout",
     "output_type": "stream",
     "text": [
      "9\n"
     ]
    }
   ],
   "source": [
    "def optimize(X, M):\n",
    "    redundant_X = []\n",
    "    n = len(M)\n",
    "    for i in n:\n",
    "\n",
    "optimize(input_enc, names)"
   ]
  },
  {
   "cell_type": "code",
   "execution_count": null,
   "metadata": {
    "collapsed": true
   },
   "outputs": [],
   "source": []
  }
 ],
 "metadata": {
  "kernelspec": {
   "display_name": "Python [conda root]",
   "language": "python",
   "name": "conda-root-py"
  },
  "language_info": {
   "codemirror_mode": {
    "name": "ipython",
    "version": 2
   },
   "file_extension": ".py",
   "mimetype": "text/x-python",
   "name": "python",
   "nbconvert_exporter": "python",
   "pygments_lexer": "ipython2",
   "version": "2.7.13"
  }
 },
 "nbformat": 4,
 "nbformat_minor": 2
}

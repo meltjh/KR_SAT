{
 "cells": [
  {
   "cell_type": "code",
   "execution_count": 24,
   "metadata": {},
   "outputs": [
    {
     "name": "stdout",
     "output_type": "stream",
     "text": [
      "https://www.menneske.no/sudoku/nobox/3/eng/random.html?diff=1\n",
      "[[9, 8, 0, 0, 7, 0, 0, 0, 4], [0, 0, 0, 0, 3, 4, 5, 2, 0], [5, 0, 1, 0, 0, 0, 0, 0, 0], [0, 6, 9, 0, 8, 0, 3, 0, 1], [0, 9, 0, 2, 0, 1, 0, 3, 0], [3, 0, 6, 0, 2, 0, 1, 5, 0], [0, 0, 0, 0, 0, 0, 9, 0, 6], [0, 7, 2, 4, 1, 0, 0, 0, 0], [8, 0, 0, 0, 5, 0, 0, 1, 2]]\n"
     ]
    }
   ],
   "source": [
    "import csv\n",
    "\n",
    "from pattern.web import *#URL, DOM, plaintext \n",
    "\n",
    "SIZES = ['3','4','5','6','7']\n",
    "DIFFICULTY = ['1','2','3','4','5','6','7','8','9']\n",
    "TARGET_URL = \"https://www.menneske.no/sudoku/nobox/{}/eng/random.html?diff={}\" # SIZES\n",
    "BACKUP_HTML = 'tvseries.html'\n",
    "OUTPUT_CSV = 'tvseries.csv'\n",
    "\n",
    "def extract_page(dom):\n",
    "    values = []\n",
    "    grid = dom.by_tag(\"div.grid\")[0]\n",
    "    tbl = grid.by_tag(\"table\")[0]\n",
    "    sudoku = []\n",
    "    for tr in tbl.by_tag(\"tr\"):\n",
    "        row = []\n",
    "        for td in tr.by_tag(\"td\"):\n",
    "            value = td.content\n",
    "            if value != \"&nbsp;\":\n",
    "                row.append(int(td.content))\n",
    "            else:\n",
    "                row.append(0)\n",
    "        sudoku.append(row)\n",
    "    return sudoku\n",
    "\n",
    "# Download the HTML file\n",
    "str_url = TARGET_URL.format(SIZES[0],DIFFICULTY[0])\n",
    "print(str_url)\n",
    "url = URL(str_url)\n",
    "html = url.download()\n",
    "\n",
    "# Parse the HTML file into a DOM representation\n",
    "dom = DOM(html)\n",
    "\n",
    "# Extract the tv series (using the function you implemented)\n",
    "sudoku = extract_page(dom)\n",
    "print(sudoku)\n",
    "\n",
    "# Write the CSV file to disk (including a header)\n",
    "# with open(OUTPUT_CSV, 'wb') as output_file:\n",
    "#     save_csv(output_file, tvseries)"
   ]
  },
  {
   "cell_type": "code",
   "execution_count": null,
   "metadata": {
    "collapsed": true
   },
   "outputs": [],
   "source": []
  }
 ],
 "metadata": {
  "kernelspec": {
   "display_name": "Python [conda root]",
   "language": "python",
   "name": "conda-root-py"
  },
  "language_info": {
   "codemirror_mode": {
    "name": "ipython",
    "version": 2
   },
   "file_extension": ".py",
   "mimetype": "text/x-python",
   "name": "python",
   "nbconvert_exporter": "python",
   "pygments_lexer": "ipython2",
   "version": "2.7.13"
  }
 },
 "nbformat": 4,
 "nbformat_minor": 2
}
